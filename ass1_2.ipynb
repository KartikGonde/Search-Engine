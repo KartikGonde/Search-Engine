{
 "cells": [
  {
   "cell_type": "code",
   "execution_count": 0,
   "metadata": {
    "application/vnd.databricks.v1+cell": {
     "cellMetadata": {
      "byteLimit": 2048000,
      "rowLimit": 10000
     },
     "inputWidgets": {},
     "nuid": "ad424e2c-fe97-43e6-92c1-66510629bfdf",
     "showTitle": false,
     "tableResultSettingsMap": {},
     "title": ""
    }
   },
   "outputs": [
    {
     "output_type": "stream",
     "name": "stdout",
     "output_type": "stream",
     "text": [
      "Python interpreter will be restarted.\nRequirement already satisfied: nltk in /local_disk0/.ephemeral_nfs/envs/pythonEnv-4ce4e5c2-4f48-4627-911f-ba62d28e28bd/lib/python3.9/site-packages (3.9.1)\nRequirement already satisfied: regex>=2021.8.3 in /local_disk0/.ephemeral_nfs/envs/pythonEnv-4ce4e5c2-4f48-4627-911f-ba62d28e28bd/lib/python3.9/site-packages (from nltk) (2024.11.6)\nRequirement already satisfied: tqdm in /local_disk0/.ephemeral_nfs/envs/pythonEnv-4ce4e5c2-4f48-4627-911f-ba62d28e28bd/lib/python3.9/site-packages (from nltk) (4.67.1)\nRequirement already satisfied: joblib in /databricks/python3/lib/python3.9/site-packages (from nltk) (1.1.1)\nRequirement already satisfied: click in /databricks/python3/lib/python3.9/site-packages (from nltk) (8.0.4)\nPython interpreter will be restarted.\n"
     ]
    }
   ],
   "source": [
    "%pip install nltk"
   ]
  },
  {
   "cell_type": "code",
   "execution_count": 0,
   "metadata": {
    "application/vnd.databricks.v1+cell": {
     "cellMetadata": {
      "byteLimit": 2048000,
      "rowLimit": 10000
     },
     "inputWidgets": {},
     "nuid": "a6a7641d-194b-4efb-8aca-4cb50131195b",
     "showTitle": false,
     "tableResultSettingsMap": {},
     "title": ""
    }
   },
   "outputs": [
    {
     "output_type": "stream",
     "name": "stderr",
     "output_type": "stream",
     "text": [
      "[nltk_data] Downloading package stopwords to /root/nltk_data...\n[nltk_data]   Package stopwords is already up-to-date!\n"
     ]
    }
   ],
   "source": [
    "import re\n",
    "import math\n",
    "from pyspark.sql import SparkSession\n",
    "from pyspark import SparkContext\n",
    "import nltk\n",
    "from nltk.corpus import stopwords\n",
    "\n",
    "nltk.download('stopwords')\n",
    "\n",
    "spark = SparkSession.builder.getOrCreate()\n",
    "sc = spark.sparkContext\n",
    "\n",
    "plot_file = \"dbfs:/FileStore/plot_summaries.txt\"       \n",
    "meta_file = \"dbfs:/FileStore/movie_metadata.tsv\"          \n",
    "search_file = \"dbfs:/FileStore/search_terms-1.txt\"        \n",
    "\n",
    "# Load stopwords and broadcast to workers\n",
    "my_stopwords = set(stopwords.words('english'))\n",
    "stopwords_broadcast = sc.broadcast(my_stopwords)\n"
   ]
  },
  {
   "cell_type": "code",
   "execution_count": 0,
   "metadata": {
    "application/vnd.databricks.v1+cell": {
     "cellMetadata": {
      "byteLimit": 2048000,
      "rowLimit": 10000
     },
     "inputWidgets": {},
     "nuid": "401f3ac4-b281-47c2-a580-a8688c2d1eff",
     "showTitle": false,
     "tableResultSettingsMap": {},
     "title": ""
    }
   },
   "outputs": [
    {
     "output_type": "stream",
     "name": "stdout",
     "output_type": "stream",
     "text": [
      "Total movie plots: 42306\nOne sample plot: [('23890098', \"Shlykov, a hard-working taxi driver and Lyosha, a saxophonist, develop a bizarre love-hate relationship, and despite their prejudices, realize they aren't so different after all.\")]\n"
     ]
    }
   ],
   "source": [
    "raw_lines = sc.textFile(plot_file)\n",
    "\n",
    "# Split each line and filter out any that don't have exactly 2 parts\n",
    "plots_rdd = raw_lines.map(lambda line: line.split(\"\\t\")).filter(lambda parts: len(parts) == 2).map(lambda parts: (parts[0], parts[1]))\n",
    "\n",
    "print(\"Total movie plots:\", plots_rdd.count())\n",
    "print(\"One sample plot:\", plots_rdd.take(1))"
   ]
  },
  {
   "cell_type": "code",
   "execution_count": 0,
   "metadata": {
    "application/vnd.databricks.v1+cell": {
     "cellMetadata": {
      "byteLimit": 2048000,
      "rowLimit": 10000
     },
     "inputWidgets": {},
     "nuid": "c9fa80c8-1aa9-472a-90eb-258eeaeb2c8e",
     "showTitle": false,
     "tableResultSettingsMap": {},
     "title": ""
    }
   },
   "outputs": [
    {
     "output_type": "stream",
     "name": "stdout",
     "output_type": "stream",
     "text": [
      "Some movie metadata: [('261236', 'A Woman in Flames'), ('18998739', \"The Sorcerer's Apprentice\"), ('10408933', \"Alexander's Ragtime Band\"), ('24229100', 'Lady Snowblood 2: Love Song of Vengeance'), ('6631279', 'Little city')]\n"
     ]
    }
   ],
   "source": [
    "meta_rdd = sc.textFile(meta_file).map(lambda line: line.split(\"\\t\"))\n",
    "# print(meta_rdd.take(5))\n",
    "\n",
    "movie_meta_rdd = meta_rdd.filter(lambda parts: len(parts) >= 3).map(lambda parts: (parts[0], parts[2])).distinct()\n",
    "movie_meta_dict = dict(movie_meta_rdd.collect())\n",
    "movie_meta_bc = sc.broadcast(movie_meta_dict)\n",
    "\n",
    "print(\"Some movie metadata:\", list(movie_meta_dict.items())[:5])\n"
   ]
  },
  {
   "cell_type": "code",
   "execution_count": 0,
   "metadata": {
    "application/vnd.databricks.v1+cell": {
     "cellMetadata": {
      "byteLimit": 2048000,
      "rowLimit": 10000
     },
     "inputWidgets": {},
     "nuid": "ed9cd37e-0a76-43a2-88a0-22f9d0ab9550",
     "showTitle": false,
     "tableResultSettingsMap": {},
     "title": ""
    }
   },
   "outputs": [
    {
     "output_type": "stream",
     "name": "stdout",
     "output_type": "stream",
     "text": [
      "Processed a sample record: [('23890098', ['shlykov', 'hard', 'working', 'taxi', 'driver', 'lyosha', 'saxophonist', 'develop', 'bizarre', 'love', 'hate', 'relationship', 'despite', 'prejudices', 'realize', 'different'])]\n"
     ]
    }
   ],
   "source": [
    "def simple_tokenize(text):\n",
    "    return re.findall(r\"[a-zA-Z]+\", text.lower())\n",
    "\n",
    "def process_text(movie_id, text):\n",
    "    tokens = simple_tokenize(text)\n",
    "    filtered_tokens = [tok for tok in tokens if tok not in stopwords_broadcast.value]\n",
    "    return (movie_id, filtered_tokens)\n",
    "\n",
    "processed_plots = plots_rdd.map(lambda x: process_text(x[0], x[1]))\n",
    "print(\"Processed a sample record:\", processed_plots.take(1))\n",
    "# Now we have (movieID, [list of tokens])\n"
   ]
  },
  {
   "cell_type": "code",
   "execution_count": 0,
   "metadata": {
    "application/vnd.databricks.v1+cell": {
     "cellMetadata": {
      "byteLimit": 2048000,
      "rowLimit": 10000
     },
     "inputWidgets": {},
     "nuid": "1de8772f-e123-4b07-9ed1-c93f6e3d8a04",
     "showTitle": false,
     "tableResultSettingsMap": {},
     "title": ""
    }
   },
   "outputs": [
    {
     "output_type": "stream",
     "name": "stdout",
     "output_type": "stream",
     "text": [
      "Total docs: 42306\nSome TF-IDF scores: [('31186339', 'nation', 2.1118542124004), ('474750', 'nation', 2.1118542124004), ('15340311', 'nation', 2.1118542124004), ('32943405', 'nation', 2.1118542124004), ('33148591', 'nation', 2.1118542124004)]\n"
     ]
    }
   ],
   "source": [
    "tf_rdd = processed_plots.flatMap(lambda x: [((x[0], token), 1) for token in x[1]]).reduceByKey(lambda a, b: a + b)\n",
    "\n",
    "token_doc_pairs = tf_rdd.map(lambda x: (x[0][1], x[0][0])).distinct()\n",
    "df_rdd = token_doc_pairs.map(lambda x: (x[0], 1)).reduceByKey(lambda a, b: a + b)\n",
    "\n",
    "\n",
    "total_docs = processed_plots.count()\n",
    "print(\"Total docs:\", total_docs)\n",
    "\n",
    "\n",
    "idf_rdd = df_rdd.map(lambda x: (x[0], math.log(float(total_docs) / float(x[1]), 10)))\n",
    "\n",
    "\n",
    "tf_by_token = tf_rdd.map(lambda x: (x[0][1], (x[0][0], x[1])))\n",
    "\n",
    "tfidf_join = tf_by_token.join(idf_rdd)\n",
    "\n",
    "tfidf_rdd = tfidf_join.map(lambda x: (x[1][0][0], x[0], x[1][0][1] * x[1][1]))\n",
    "print(\"Some TF-IDF scores:\", tfidf_rdd.take(5))\n",
    "\n",
    "\n",
    "inv_index_rdd = tfidf_rdd.map(lambda x: (x[1], (x[0], x[2]))) \\\n",
    "                         .groupByKey() \\\n",
    "                         .mapValues(list)"
   ]
  },
  {
   "cell_type": "code",
   "execution_count": 0,
   "metadata": {
    "application/vnd.databricks.v1+cell": {
     "cellMetadata": {
      "byteLimit": 2048000,
      "rowLimit": 10000
     },
     "inputWidgets": {},
     "nuid": "aca2bd49-bd32-4924-acff-24d49425fd8e",
     "showTitle": false,
     "tableResultSettingsMap": {},
     "title": ""
    }
   },
   "outputs": [
    {
     "output_type": "stream",
     "name": "stdout",
     "output_type": "stream",
     "text": [
      "Search queries found: ['king', 'action', 'love story', 'batman', 'hulk', 'horror', 'fiction', 'funny movie with action scenes', 'action movie with funny scenes', 'self help movie with happy ending', 'parody of superhero movie', 'movie about car racing']\n"
     ]
    }
   ],
   "source": [
    "queries = sc.textFile(search_file).collect()\n",
    "print(\"Search queries found:\", queries)\n",
    "\n",
    "def process_query(query):\n",
    "    tokens = simple_tokenize(query)\n",
    "    return [tok for tok in tokens if tok not in stopwords_broadcast.value]\n",
    "\n",
    "def top_docs_single(term, top_n=10):\n",
    "    results = (inv_index_rdd.filter(lambda x: x[0] == term)\n",
    "                           .flatMap(lambda x: x[1])\n",
    "                           .takeOrdered(top_n, key=lambda tup: -tup[1]))\n",
    "    return results\n",
    "\n",
    "def print_single_query(term):\n",
    "    res = top_docs_single(term)\n",
    "    print(f\"Results for query (single term) '{term}':\")\n",
    "    for movie_id, score in res:\n",
    "        name = movie_meta_bc.value.get(movie_id, \"Unknown Movie\")\n",
    "        print(f\"  ID: {movie_id}, Name: {name}, Score: {score:.4f}\")"
   ]
  },
  {
   "cell_type": "code",
   "execution_count": 0,
   "metadata": {
    "application/vnd.databricks.v1+cell": {
     "cellMetadata": {
      "byteLimit": 2048000,
      "rowLimit": 10000
     },
     "inputWidgets": {},
     "nuid": "1f943e3b-9a24-44b1-a996-41efd7c0ce97",
     "showTitle": false,
     "tableResultSettingsMap": {},
     "title": ""
    }
   },
   "outputs": [
    {
     "output_type": "stream",
     "name": "stdout",
     "output_type": "stream",
     "text": [
      "========================================\nQuery: king\nResults for query (single term) 'king':\n  ID: 16702881, Name: King, Score: 60.4686\n  ID: 27181651, Name: Esther, Score: 54.7097\n  ID: 4015886, Name: The King and I, Score: 47.5110\n  ID: 2216322, Name: Ready to Rumble, Score: 44.6316\n  ID: 20461830, Name: A Frozen Flower, Score: 40.3124\n  ID: 24051028, Name: No Time for Sergeants, Score: 35.9932\n  ID: 16904693, Name: Shishkabugs, Score: 34.5535\n  ID: 36180452, Name: One Night with the King, Score: 31.6740\n  ID: 6967795, Name: Esther... The Girl Who Became Queen, Score: 31.6740\n  ID: 3917891, Name: The King and the Clown, Score: 30.2343\n========================================\n\n========================================\nQuery: action\nResults for query (single term) 'action':\n  ID: 28657324, Name: Crayon Shin-chan: Action Kamen vs Leotard Devil, Score: 17.9955\n  ID: 33035035, Name: Action Man: Robot Atak, Score: 11.9970\n  ID: 31474926, Name: Crayon Shin-chan: The Storm Called The Jungle, Score: 8.9977\n  ID: 4608223, Name: West Side Story, Score: 7.4981\n  ID: 10087485, Name: Rosencrantz & Guildenstern Are Dead, Score: 7.4981\n  ID: 1376388, Name: Smallpox, Score: 5.9985\n  ID: 17853465, Name: Bombaat, Score: 5.9985\n  ID: 12596771, Name: Kyun Tum Say Itna Pyar Hai, Score: 5.9985\n  ID: 5291587, Name: Firestarter 2: Rekindled, Score: 4.4989\n  ID: 1367581, Name: A Civil Action, Score: 4.4989\n========================================\n\n========================================\nQuery: love story\nResults for multi-term query 'love story':\n  ID: 15401493, Name: Husband for Hire, Similarity: 1.0000\n  ID: 10799612, Name: Amici miei, Similarity: 1.0000\n  ID: 24268011, Name: Phir Kabhi, Similarity: 1.0000\n  ID: 15842654, Name: His First Flame, Similarity: 1.0000\n  ID: 6002416, Name: Parakh, Similarity: 1.0000\n  ID: 4246026, Name: Dixiana, Similarity: 1.0000\n  ID: 20571157, Name: The Shooting Of Dan McGoo, Similarity: 1.0000\n  ID: 31402653, Name: Kumari, Similarity: 1.0000\n  ID: 32504373, Name: The Pastor's Wife, Similarity: 1.0000\n  ID: 1430396, Name: Corpse Bride, Similarity: 1.0000\n========================================\n\n========================================\nQuery: batman\nResults for query (single term) 'batman':\n  ID: 26340083, Name: Batman: Under the Red Hood, Score: 73.4051\n  ID: 13375677, Name: Batman: Year One, Score: 61.6603\n  ID: 4276475, Name: The Dark Knight, Score: 58.7241\n  ID: 311765, Name: Batman: Mask of the Phantasm, Score: 52.8517\n  ID: 2808281, Name: The Batman vs. Dracula, Score: 46.9793\n  ID: 4728, Name: Batman Returns, Score: 44.0431\n  ID: 6954737, Name: Justice League: New Frontier, Score: 44.0431\n  ID: 29075630, Name: The Dark Knight Rises, Score: 38.1707\n  ID: 4729, Name: Batman & Robin, Score: 38.1707\n  ID: 4727, Name: Batman, Score: 35.2345\n========================================\n\n========================================\nQuery: hulk\nResults for query (single term) 'hulk':\n  ID: 18373306, Name: Hulk Vs, Score: 133.0938\n  ID: 17288991, Name: Planet Hulk, Score: 81.1548\n  ID: 407591, Name: Hulk, Score: 55.1852\n  ID: 5476946, Name: The Incredible Hulk, Score: 51.9391\n  ID: 8619888, Name: Next Avengers: Heroes of Tomorrow, Score: 19.4771\n  ID: 8002440, Name: The Trial of the Incredible Hulk, Score: 19.4771\n  ID: 22114132, Name: The Avengers, Score: 16.2310\n  ID: 2952825, Name: Ultimate Avengers, Score: 9.7386\n  ID: 4714316, Name: The Hills Have Eyes Part II, Score: 9.7386\n  ID: 7864161, Name: The Incredible Hulk Returns, Score: 9.7386\n========================================\n\n========================================\nQuery: horror\nResults for query (single term) 'horror':\n  ID: 27863441, Name: Garo: Red Requiem, Score: 19.4399\n  ID: 2260396, Name: The Last Horror Film, Score: 8.8363\n  ID: 1266489, Name: The Pagemaster, Score: 8.8363\n  ID: 5422414, Name: The Pit and the Pendulum, Score: 7.0691\n  ID: 26938419, Name: Microwave Massacre, Score: 7.0691\n  ID: 21062039, Name: Raat, Score: 7.0691\n  ID: 1123132, Name: Fright Night, Score: 7.0691\n  ID: 32877145, Name: Kiba Gaiden, Score: 7.0691\n  ID: 6142808, Name: The Grudge 3, Score: 5.3018\n  ID: 3717069, Name: Memphis Belle, Score: 5.3018\n========================================\n\n========================================\nQuery: fiction\nResults for query (single term) 'fiction':\n  ID: 2910440, Name: Storytelling, Score: 9.4369\n  ID: 2382573, Name: The Last Broadcast, Score: 7.0777\n  ID: 18382722, Name: PROXIMA, Score: 7.0777\n  ID: 16672074, Name: Should I Really Do It?, Score: 7.0777\n  ID: 142463, Name: Life Is Beautiful, Score: 4.7185\n  ID: 4260564, Name: The Second Arrival, Score: 4.7185\n  ID: 34983972, Name: Z'har, Score: 4.7185\n  ID: 11021128, Name: Yatra, Score: 4.7185\n  ID: 20825612, Name: Gentlemen Broncos, Score: 4.7185\n  ID: 8776448, Name: A Dirty Carnival, Score: 4.7185\n========================================\n\n========================================\nQuery: funny movie with action scenes\nResults for multi-term query 'funny movie action scenes':\n  ID: 3819797, Name: And the Ship Sails on, Similarity: 0.8926\n  ID: 19398992, Name: Shrimps for a Day, Similarity: 0.8926\n  ID: 13861985, Name: The Perfect Holiday, Similarity: 0.8926\n  ID: 16171201, Name: Zombies! Zombies! Zombies!, Similarity: 0.8780\n  ID: 17987447, Name: Subramaniapuram, Similarity: 0.8446\n  ID: 26601914, Name: April Fool, Similarity: 0.8446\n  ID: 1238341, Name: Trail of the Pink Panther, Similarity: 0.8446\n  ID: 31020151, Name: Modalasala, Similarity: 0.8446\n  ID: 10198460, Name: Let's Talk, Similarity: 0.8446\n  ID: 31586197, Name: The Muppets: A Celebration of 30 Years, Similarity: 0.8446\n========================================\n\n========================================\nQuery: action movie with funny scenes\nResults for multi-term query 'action movie funny scenes':\n  ID: 3819797, Name: And the Ship Sails on, Similarity: 0.8926\n  ID: 19398992, Name: Shrimps for a Day, Similarity: 0.8926\n  ID: 13861985, Name: The Perfect Holiday, Similarity: 0.8926\n  ID: 16171201, Name: Zombies! Zombies! Zombies!, Similarity: 0.8780\n  ID: 17987447, Name: Subramaniapuram, Similarity: 0.8446\n  ID: 26601914, Name: April Fool, Similarity: 0.8446\n  ID: 1238341, Name: Trail of the Pink Panther, Similarity: 0.8446\n  ID: 31020151, Name: Modalasala, Similarity: 0.8446\n  ID: 10198460, Name: Let's Talk, Similarity: 0.8446\n  ID: 31586197, Name: The Muppets: A Celebration of 30 Years, Similarity: 0.8446\n========================================\n\n========================================\nQuery: self help movie with happy ending\nResults for multi-term query 'self help movie happy ending':\n  ID: 32038442, Name: Unnaruge Naan Irundhal, Similarity: 0.9636\n  ID: 1213838, Name: Toy Story 3, Similarity: 0.9343\n  ID: 22144721, Name: Iron Man 2, Similarity: 0.9343\n  ID: 32336472, Name: Muhammad bin Tughluq, Similarity: 0.9076\n  ID: 1298984, Name: Blue Skies, Similarity: 0.8988\n  ID: 12066052, Name: Hello, Similarity: 0.8988\n  ID: 7586065, Name: Raja Babu, Similarity: 0.8988\n  ID: 105872, Name: Clueless, Similarity: 0.8824\n  ID: 2728247, Name: House of 9, Similarity: 0.8813\n  ID: 113464, Name: Hannah and Her Sisters, Similarity: 0.8795\n========================================\n\n========================================\nQuery: parody of superhero movie\nResults for multi-term query 'parody superhero movie':\n  ID: 5555253, Name: Underground Comedy Movie, Similarity: 0.7451\n  ID: 8896262, Name: The Green Goblin's Last Stand, Similarity: 0.7451\n  ID: 10347305, Name: Stonewall & Riot: The Ultimate Orgasm, Similarity: 0.7451\n  ID: 3358393, Name: Up, Up, and Away, Similarity: 0.7451\n  ID: 22054974, Name: Quick gun Murugan, Similarity: 0.7451\n  ID: 1955275, Name: Dragon Fist Explosion!! If Gokū Can't Do It, Who Will?, Similarity: 0.7451\n  ID: 1575869, Name: Cube Zero, Similarity: 0.7451\n  ID: 6242152, Name: Gisaku, Similarity: 0.7451\n  ID: 2973523, Name: Hollywood Shuffle, Similarity: 0.7170\n  ID: 12836791, Name: Dead Right, Similarity: 0.7116\n========================================\n\n========================================\nQuery: movie about car racing\nResults for multi-term query 'movie car racing':\n  ID: 2685969, Name: Three the Hard Way, Similarity: 1.0000\n  ID: 15383895, Name: Baaz: A Bird in Danger, Similarity: 1.0000\n  ID: 18953471, Name: Yes Man, Similarity: 1.0000\n  ID: 180606, Name: The Animatrix, Similarity: 1.0000\n  ID: 11525423, Name: Red Line 7000, Similarity: 0.9689\n  ID: 103029, Name: Breaking Away, Similarity: 0.9689\n  ID: 9425270, Name: The Dukes of Hazzard: Hazzard in Hollywood!, Similarity: 0.9689\n  ID: 512161, Name: Herbie Goes to Monte Carlo, Similarity: 0.9583\n  ID: 2753501, Name: Shuto Kousoku Trial, Similarity: 0.9482\n  ID: 961459, Name: Girls Town, Similarity: 0.9324\n========================================\n\n"
     ]
    }
   ],
   "source": [
    "from collections import Counter\n",
    "idf_dict = dict(idf_rdd.collect())\n",
    "idf_bc = sc.broadcast(idf_dict)\n",
    "\n",
    "def build_query_vector(tokens):\n",
    "    freq = Counter(tokens)\n",
    "    return {term: freq_val * idf_bc.value.get(term, 0.0) for term, freq_val in freq.items()}\n",
    "\n",
    "def cosine_similarity(vec1, vec2):\n",
    "    dot_product = sum(vec1.get(t, 0.0) * vec2.get(t, 0.0) for t in vec1)\n",
    "    norm1 = math.sqrt(sum(val**2 for val in vec1.values()))\n",
    "    norm2 = math.sqrt(sum(val**2 for val in vec2.values()))\n",
    "    if norm1 == 0 or norm2 == 0:\n",
    "        return 0.0\n",
    "    return dot_product / (norm1 * norm2)\n",
    "\n",
    "def top_docs_multi(tokens, top_n=10):\n",
    "    query_vec = build_query_vector(tokens)\n",
    "    query_terms = set(query_vec.keys())\n",
    "    docs_vectors = (tfidf_rdd.filter(lambda x: x[1] in query_terms).map(lambda x: (x[0], (x[1], x[2]))).groupByKey().mapValues(lambda pairs: dict(pairs)))\n",
    "    sim_scores = docs_vectors.map(lambda x: (x[0], cosine_similarity(query_vec, x[1])))\n",
    "    return sim_scores.takeOrdered(top_n, key=lambda tup: -tup[1])\n",
    "\n",
    "def print_multi_query(tokens):\n",
    "    res = top_docs_multi(tokens)\n",
    "    print(f\"Results for multi-term query '{' '.join(tokens)}':\")\n",
    "    for movie_id, sim in res:\n",
    "        name = movie_meta_bc.value.get(movie_id, \"Unknown Movie\")\n",
    "        print(f\"  ID: {movie_id}, Name: {name}, Similarity: {sim:.4f}\")\n",
    "\n",
    "\n",
    "for q in queries:\n",
    "    print(\"========================================\")\n",
    "    print(\"Query:\", q)\n",
    "    query_tokens = process_query(q)\n",
    "    if not query_tokens:\n",
    "        print(\"  No valid tokens found after stopword removal.\")\n",
    "    elif len(query_tokens) == 1:\n",
    "        print_single_query(query_tokens[0])\n",
    "    else:\n",
    "        print_multi_query(query_tokens)\n",
    "    print(\"========================================\\n\")"
   ]
  }
 ],
 "metadata": {
  "application/vnd.databricks.v1+notebook": {
   "computePreferences": null,
   "dashboards": [],
   "environmentMetadata": {
    "base_environment": "",
    "client": "1"
   },
   "language": "python",
   "notebookMetadata": {
    "pythonIndentUnit": 4
   },
   "notebookName": "ass1_2",
   "widgets": {}
  }
 },
 "nbformat": 4,
 "nbformat_minor": 0
}
